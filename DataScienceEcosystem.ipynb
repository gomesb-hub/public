{
 "cells": [
  {
   "cell_type": "markdown",
   "id": "fa0bf7c2-220b-4e7d-90c4-5941377c950a",
   "metadata": {},
   "source": [
    "# Data Science Tools and Ecosystem"
   ]
  },
  {
   "cell_type": "markdown",
   "id": "23fd6c43-63f4-4332-93de-64863dff7a9f",
   "metadata": {},
   "source": [
    "In this notebook, Data Science Tools and Ecosystem are summarized."
   ]
  },
  {
   "cell_type": "markdown",
   "id": "5d4c7b51-ff02-4a65-b4b7-392559fd7f0d",
   "metadata": {},
   "source": [
    " **Objectives:**\n",
    " \n",
    "- List of popular languagues in Data Science \n",
    "- List of common libraries used by Data Scientists \n",
    "- List of Data Science Tools \n",
    "- Examples o arithmetic expressions in Python "
   ]
  },
  {
   "cell_type": "markdown",
   "id": "88741cd9-20b3-4a16-8d51-17df5ca23ebb",
   "metadata": {},
   "source": [
    "Some of the popular languages that Data Scientists use are:\n",
    "1. python\n",
    "2. R\n",
    "3. SQL"
   ]
  },
  {
   "cell_type": "markdown",
   "id": "63481552-1ea0-4607-b8c6-dbd98843a99e",
   "metadata": {},
   "source": [
    "Some of the commonly used libraries used by Data Scientists include:\n",
    "1. ggplot (R)\n",
    "2. Pandas (Python)\n",
    "3. NumPy (Python)"
   ]
  },
  {
   "cell_type": "markdown",
   "id": "9ca4b940-2b45-455a-8871-483e2d7a6d16",
   "metadata": {},
   "source": [
    "| Data Science Tools |\n",
    "| ------------------ |\n",
    "| Rstudio |\n",
    "| jupyter Notebook|\n",
    "| Spyder |"
   ]
  },
  {
   "cell_type": "markdown",
   "id": "a09c748c-9ea4-4abb-b21f-efa356848f54",
   "metadata": {},
   "source": [
    "### Below are a few examples of evaluating arithmetic expressions in Python"
   ]
  },
  {
   "cell_type": "markdown",
   "id": "948470ba-278c-4b2a-8aca-2de94cf62ad8",
   "metadata": {},
   "source": [
    "This a simple arithmetic expression to mutiply then add integers"
   ]
  },
  {
   "cell_type": "code",
   "execution_count": 19,
   "id": "f5df1e31-7c54-48b3-8f59-d628179e8429",
   "metadata": {},
   "outputs": [
    {
     "data": {
      "text/plain": [
       "17"
      ]
     },
     "execution_count": 19,
     "metadata": {},
     "output_type": "execute_result"
    }
   ],
   "source": [
    "(3*4)+5"
   ]
  },
  {
   "cell_type": "markdown",
   "id": "0a0d6451-52cf-4c80-b3cb-6a960101312f",
   "metadata": {},
   "source": [
    "This will convert 200 minutes to hours by diving by 60"
   ]
  },
  {
   "cell_type": "code",
   "execution_count": 30,
   "id": "022ffcbd-c087-4867-b5e0-95113f21ff23",
   "metadata": {},
   "outputs": [
    {
     "name": "stdout",
     "output_type": "stream",
     "text": [
      "3.3333333333333335\n"
     ]
    }
   ],
   "source": [
    "#x is time in minutes, y represent the conversion of x into hours\n",
    "x=200\n",
    "y=x/60\n",
    "print(y)"
   ]
  },
  {
   "cell_type": "markdown",
   "id": "dcc58124-6e7b-4172-ae68-a752e00fec58",
   "metadata": {},
   "source": [
    "## Author ##\n",
    "\n",
    "Bruno Gomes"
   ]
  }
 ],
 "metadata": {
  "kernelspec": {
   "display_name": "Python [conda env:base] *",
   "language": "python",
   "name": "conda-base-py"
  },
  "language_info": {
   "codemirror_mode": {
    "name": "ipython",
    "version": 3
   },
   "file_extension": ".py",
   "mimetype": "text/x-python",
   "name": "python",
   "nbconvert_exporter": "python",
   "pygments_lexer": "ipython3",
   "version": "3.12.7"
  }
 },
 "nbformat": 4,
 "nbformat_minor": 5
}
